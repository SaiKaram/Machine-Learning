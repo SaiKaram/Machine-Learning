{
 "cells": [
  {
   "cell_type": "code",
   "execution_count": 1,
   "metadata": {},
   "outputs": [
    {
     "name": "stderr",
     "output_type": "stream",
     "text": [
      "/home/karam/anaconda2/lib/python2.7/site-packages/ipykernel_launcher.py:24: RuntimeWarning: overflow encountered in exp\n"
     ]
    },
    {
     "name": "stdout",
     "output_type": "stream",
     "text": [
      "Correct: 9739\n",
      "Accuracy: 0.9739\n"
     ]
    }
   ],
   "source": [
    "\"\"\" Single Class Logistic Regression \"\"\"\n",
    "\n",
    "import sys\n",
    "import numpy as np\n",
    "from scipy.io import loadmat\n",
    "from sklearn import metrics\n",
    "import skimage\n",
    "\n",
    "#hypothesis function\n",
    "def hypoF(theata,x):\n",
    "    theataTrans = np.transpose(theata)\n",
    "    xTrans = np.transpose(x)\n",
    "    mul = np.matmul(theataTrans,xTrans)\n",
    "    prob = 1/(1 + np.exp(-mul))\n",
    "    return prob\n",
    "\n",
    "    \n",
    "#Gradient Descent Function\n",
    "def gradDes(alpha,epsilon,theata,theataOld,X,y):\n",
    "    while (np.linalg.norm(theata - theataOld,ord = 2)) >= epsilon:\n",
    "        theataOld = theata\n",
    "        theata = theataOld - alpha * (np.matmul(X.T,(hypoF(theata,X) - y)))\n",
    "    return theata\n",
    "\n",
    "\n",
    "#load training data\n",
    "\n",
    "dataTrain = loadmat('Train_Data.mat')\n",
    "trainLabel = loadmat('Train_Label.mat')\n",
    "\n",
    "dataTest =loadmat('Test_Data.mat')\n",
    "testLabel =loadmat('Test_Label.mat')\n",
    "\n",
    "X_train = dataTrain['trainData']\n",
    "X_test = dataTest['testData']\n",
    "\n",
    "y_trainLabel = trainLabel['trainLabels']\n",
    "y_testLabel = testLabel['testLabels'] \n",
    "\n",
    "#random initialization\n",
    "theata = np.ones(785)\n",
    "theataOld = theata * 999\n",
    " \n",
    "#Adding the column of 1's\n",
    "X_train = np.insert(X_train,0,1,axis=1)\n",
    "X_test = np.insert(X_test,0,1,axis=1)\n",
    "\n",
    "\n",
    "y = [i[0] for i in y_trainLabel]\n",
    "y_trainLabel = np.array(y_trainLabel)\n",
    "\n",
    "#Error Tolerance\n",
    "epsilon = 100\n",
    "\n",
    "#Learning Rate\n",
    "alpha = 0.01\n",
    "\n",
    "#Calculating the Optimum Theata Value\n",
    "optimumTheata = gradDes(alpha,epsilon,theata,theataOld,X_train,y_trainLabel)\t\n",
    "\n",
    "\n",
    "#threshold Value\n",
    "threshold = 0.5\n",
    "\n",
    "#Classifying Test Data\n",
    "prediction = hypoF(optimumTheata,X_test)\n",
    "for i in range(y_testLabel.size):\n",
    "\tif(prediction[i] > threshold):\n",
    "\t\tprediction[i] = 1\n",
    "\telse:\n",
    "\t\tprediction[i] = 0\n",
    "\n",
    "\n",
    "count = 0\n",
    "\n",
    "for i in range(y_testLabel.size):\n",
    "    if(prediction[i] == y_testLabel[i]):\n",
    "        count += 1\n",
    "\n",
    "        \n",
    "accuracy = correct/float(y_testLabel.size)\n",
    "print \"The accuracy given by model is : \",accuracy\n",
    "        \n"
   ]
  },
  {
   "cell_type": "code",
   "execution_count": null,
   "metadata": {
    "collapsed": true
   },
   "outputs": [],
   "source": []
  }
 ],
 "metadata": {
  "kernelspec": {
   "display_name": "Python 2",
   "language": "python",
   "name": "python2"
  },
  "language_info": {
   "codemirror_mode": {
    "name": "ipython",
    "version": 2
   },
   "file_extension": ".py",
   "mimetype": "text/x-python",
   "name": "python",
   "nbconvert_exporter": "python",
   "pygments_lexer": "ipython2",
   "version": "2.7.14"
  }
 },
 "nbformat": 4,
 "nbformat_minor": 2
}
